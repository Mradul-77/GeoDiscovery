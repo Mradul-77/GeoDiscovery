{
 "cells": [
  {
   "cell_type": "markdown",
   "id": "f3414da3-eb53-4feb-9a33-65736c7cf5c6",
   "metadata": {},
   "source": [
    "**Libraries**<br>\n",
    "All the libraries must be imported in this section -"
   ]
  },
  {
   "cell_type": "code",
   "execution_count": null,
   "id": "724c2ab7",
   "metadata": {},
   "outputs": [],
   "source": [
    "import pandas as pd\n",
    "import numpy as np"
   ]
  },
  {
   "cell_type": "markdown",
   "id": "8952d6d1",
   "metadata": {},
   "source": [
    "**Data collection**"
   ]
  },
  {
   "cell_type": "code",
   "execution_count": 4,
   "id": "bd97f392-ba0c-43e0-b700-a356b70309ab",
   "metadata": {},
   "outputs": [
    {
     "data": {
      "text/plain": [
       "(125, 61)"
      ]
     },
     "execution_count": 4,
     "metadata": {},
     "output_type": "execute_result"
    }
   ],
   "source": [
    "df=pd.read_csv(\"food_coded.csv\")\n",
    "df.shape"
   ]
  },
  {
   "cell_type": "markdown",
   "id": "5d339eef",
   "metadata": {},
   "source": [
    "**Data Cleaning**"
   ]
  },
  {
   "cell_type": "code",
   "execution_count": null,
   "id": "b7472c10-66dd-444e-a0bf-7bc7fed4258c",
   "metadata": {},
   "outputs": [],
   "source": []
  }
 ],
 "metadata": {
  "kernelspec": {
   "display_name": "venv",
   "language": "python",
   "name": "venv"
  },
  "language_info": {
   "codemirror_mode": {
    "name": "ipython",
    "version": 3
   },
   "file_extension": ".py",
   "mimetype": "text/x-python",
   "name": "python",
   "nbconvert_exporter": "python",
   "pygments_lexer": "ipython3",
   "version": "3.11.4"
  }
 },
 "nbformat": 4,
 "nbformat_minor": 5
}
